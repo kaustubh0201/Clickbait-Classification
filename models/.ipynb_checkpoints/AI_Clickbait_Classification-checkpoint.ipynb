{
 "cells": [
  {
   "cell_type": "code",
   "execution_count": 43,
   "metadata": {
    "colab": {
     "base_uri": "https://localhost:8080/"
    },
    "id": "YxbBtKG0sznv",
    "outputId": "bf0c0b40-63c4-407b-96be-b9da167091c3"
   },
   "outputs": [
    {
     "ename": "ModuleNotFoundError",
     "evalue": "No module named 'wordcloud'",
     "output_type": "error",
     "traceback": [
      "\u001b[0;31m---------------------------------------------------------------------------\u001b[0m",
      "\u001b[0;31mModuleNotFoundError\u001b[0m                       Traceback (most recent call last)",
      "Input \u001b[0;32mIn [43]\u001b[0m, in \u001b[0;36m<module>\u001b[0;34m\u001b[0m\n\u001b[1;32m     22\u001b[0m \u001b[38;5;28;01mimport\u001b[39;00m \u001b[38;5;21;01mstring\u001b[39;00m\n\u001b[1;32m     24\u001b[0m \u001b[38;5;28;01mimport\u001b[39;00m \u001b[38;5;21;01mnltk\u001b[39;00m\n\u001b[0;32m---> 25\u001b[0m \u001b[38;5;28;01mimport\u001b[39;00m \u001b[38;5;21;01mwordcloud\u001b[39;00m\n\u001b[1;32m     26\u001b[0m \u001b[38;5;66;03m#nltk.download('stopwords')\u001b[39;00m\n\u001b[1;32m     27\u001b[0m \u001b[38;5;66;03m#nltk.download('omw-1.4')\u001b[39;00m\n\u001b[1;32m     28\u001b[0m \u001b[38;5;28;01mfrom\u001b[39;00m \u001b[38;5;21;01mnltk\u001b[39;00m\u001b[38;5;21;01m.\u001b[39;00m\u001b[38;5;21;01mcorpus\u001b[39;00m \u001b[38;5;28;01mimport\u001b[39;00m stopwords\n",
      "\u001b[0;31mModuleNotFoundError\u001b[0m: No module named 'wordcloud'"
     ]
    }
   ],
   "source": [
    "import pandas as pd\n",
    "import numpy as np\n",
    "\n",
    "import missingno as msno\n",
    "import matplotlib.pyplot as plt\n",
    "from nltk.probability import FreqDist\n",
    "from sklearn.feature_extraction.text import TfidfVectorizer\n",
    "from sklearn.naive_bayes import MultinomialNB\n",
    "from sklearn.metrics import f1_score\n",
    "from sklearn.feature_extraction.text import CountVectorizer as CV\n",
    "from sklearn.feature_extraction.text import TfidfVectorizer\n",
    "from sklearn.feature_extraction.text import TfidfTransformer\n",
    "from sklearn.metrics import confusion_matrix\n",
    "from sklearn.naive_bayes import MultinomialNB\n",
    "\n",
    "from sklearn.model_selection import train_test_split\n",
    "from sklearn.ensemble import RandomForestClassifier\n",
    "from sklearn.metrics import accuracy_score\n",
    "from sklearn.metrics import f1_score, recall_score\n",
    "from pandas import DataFrame\n",
    "import seaborn as sns\n",
    "import string\n",
    "\n",
    "import nltk\n",
    "from wordcloud import WordCloud, STOPWORDS\n",
    "#nltk.download('stopwords')\n",
    "#nltk.download('omw-1.4')\n",
    "from nltk.corpus import stopwords\n",
    "from nltk.stem import WordNetLemmatizer\n",
    "lemmatizer = WordNetLemmatizer()\n",
    "from nltk.corpus import wordnet\n",
    "\n",
    "#nltk.download('punkt')\n"
   ]
  },
  {
   "cell_type": "markdown",
   "metadata": {
    "id": "Lyuo81uVgtrK"
   },
   "source": [
    "# Preprocessing Dataset"
   ]
  },
  {
   "cell_type": "code",
   "execution_count": 14,
   "metadata": {
    "id": "spB4ojUDeHBG"
   },
   "outputs": [
    {
     "data": {
      "text/plain": [
       "'\\nclickbait = pd.read_csv(\"clickbait.csv\")\\nnotclickbait = pd.read_csv(\"notClickbait.csv\")\\n\\nclickbait_positive = [1 for i in range(clickbait.shape[0])]\\nclickbait_negative = [0 for i in range(notclickbait.shape[0])]\\n\\nclickbait[\"isClickbait\"] = clickbait_positive\\nnotclickbait[\"isClickbait\"] = clickbait_negative\\n\\ndataset = pd.concat([clickbait, notclickbait])\\n\\ndataset = dataset.drop([\\'ID\\', \\'Favorites\\'], axis = 1)\\n'"
      ]
     },
     "execution_count": 14,
     "metadata": {},
     "output_type": "execute_result"
    }
   ],
   "source": [
    "\"\"\"\n",
    "clickbait = pd.read_csv(\"clickbait.csv\")\n",
    "notclickbait = pd.read_csv(\"notClickbait.csv\")\n",
    "\n",
    "clickbait_positive = [1 for i in range(clickbait.shape[0])]\n",
    "clickbait_negative = [0 for i in range(notclickbait.shape[0])]\n",
    "\n",
    "clickbait[\"isClickbait\"] = clickbait_positive\n",
    "notclickbait[\"isClickbait\"] = clickbait_negative\n",
    "\n",
    "dataset = pd.concat([clickbait, notclickbait])\n",
    "\n",
    "dataset = dataset.drop(['ID', 'Favorites'], axis = 1)\n",
    "\"\"\""
   ]
  },
  {
   "cell_type": "code",
   "execution_count": 15,
   "metadata": {
    "colab": {
     "base_uri": "https://localhost:8080/",
     "height": 452
    },
    "id": "s6wat-L7edJb",
    "outputId": "1ca5b53e-d00c-409e-fb5b-30eccbb9e2c2"
   },
   "outputs": [
    {
     "data": {
      "text/plain": [
       "\"\\ndf = pd.read_csv('drive/MyDrive/clickbait_data.csv')\\n\\ndf.rename(columns = {'headline':'Video Title', 'clickbait':'isClickbait'}, inplace = True)\\ncols = [-1 for i in range(df.shape[0])]\\ndf['Views'] = df['Likes'] = df['Dislikes'] = cols\\n\\nmerged_df = pd.concat([dataset, df])\\n\""
      ]
     },
     "execution_count": 15,
     "metadata": {},
     "output_type": "execute_result"
    }
   ],
   "source": [
    "\"\"\"\n",
    "df = pd.read_csv('drive/MyDrive/clickbait_data.csv')\n",
    "\n",
    "df.rename(columns = {'headline':'Video Title', 'clickbait':'isClickbait'}, inplace = True)\n",
    "cols = [-1 for i in range(df.shape[0])]\n",
    "df['Views'] = df['Likes'] = df['Dislikes'] = cols\n",
    "\n",
    "merged_df = pd.concat([dataset, df])\n",
    "\"\"\""
   ]
  },
  {
   "cell_type": "code",
   "execution_count": 16,
   "metadata": {
    "id": "FF1HSjaDerq6"
   },
   "outputs": [],
   "source": [
    "#compression_opts = dict(method='zip', archive_name='clickbait_youtube_dataset.csv')\n",
    "#merged_df.to_csv('clickbait_youtube_dataset.zip', index=False, compression=compression_opts)"
   ]
  },
  {
   "cell_type": "markdown",
   "metadata": {
    "id": "fIW3Czy5vv7R"
   },
   "source": [
    "# Reading the data"
   ]
  },
  {
   "cell_type": "code",
   "execution_count": 17,
   "metadata": {
    "id": "d7sDo5pos32Q"
   },
   "outputs": [],
   "source": [
    "data=pd.read_csv('./clickbait_youtube_dataset.csv')"
   ]
  },
  {
   "cell_type": "code",
   "execution_count": 18,
   "metadata": {
    "colab": {
     "base_uri": "https://localhost:8080/",
     "height": 424
    },
    "id": "WWebdrH3t_TG",
    "outputId": "0f462c50-8761-424e-f50d-e2175f322845"
   },
   "outputs": [
    {
     "data": {
      "text/html": [
       "<div>\n",
       "<style scoped>\n",
       "    .dataframe tbody tr th:only-of-type {\n",
       "        vertical-align: middle;\n",
       "    }\n",
       "\n",
       "    .dataframe tbody tr th {\n",
       "        vertical-align: top;\n",
       "    }\n",
       "\n",
       "    .dataframe thead th {\n",
       "        text-align: right;\n",
       "    }\n",
       "</style>\n",
       "<table border=\"1\" class=\"dataframe\">\n",
       "  <thead>\n",
       "    <tr style=\"text-align: right;\">\n",
       "      <th></th>\n",
       "      <th>Video Title</th>\n",
       "      <th>Views</th>\n",
       "      <th>Likes</th>\n",
       "      <th>Dislikes</th>\n",
       "      <th>isClickbait</th>\n",
       "    </tr>\n",
       "  </thead>\n",
       "  <tbody>\n",
       "    <tr>\n",
       "      <th>0</th>\n",
       "      <td>10 People You Don't Want To Mess With</td>\n",
       "      <td>484411</td>\n",
       "      <td>3881</td>\n",
       "      <td>191</td>\n",
       "      <td>1</td>\n",
       "    </tr>\n",
       "    <tr>\n",
       "      <th>1</th>\n",
       "      <td>I Got Hunted By The FBI</td>\n",
       "      <td>42724724</td>\n",
       "      <td>2005151</td>\n",
       "      <td>24646</td>\n",
       "      <td>1</td>\n",
       "    </tr>\n",
       "    <tr>\n",
       "      <th>2</th>\n",
       "      <td>10 Real Life Giants You Won't Believe Exist</td>\n",
       "      <td>3674544</td>\n",
       "      <td>12116</td>\n",
       "      <td>1570</td>\n",
       "      <td>1</td>\n",
       "    </tr>\n",
       "    <tr>\n",
       "      <th>3</th>\n",
       "      <td>10 Real Life Giants You Won't Believe Exist</td>\n",
       "      <td>6890718</td>\n",
       "      <td>15222</td>\n",
       "      <td>2858</td>\n",
       "      <td>1</td>\n",
       "    </tr>\n",
       "    <tr>\n",
       "      <th>4</th>\n",
       "      <td>10 Mythical CREATURES That Actually Existed</td>\n",
       "      <td>2089601</td>\n",
       "      <td>46750</td>\n",
       "      <td>1954</td>\n",
       "      <td>1</td>\n",
       "    </tr>\n",
       "    <tr>\n",
       "      <th>...</th>\n",
       "      <td>...</td>\n",
       "      <td>...</td>\n",
       "      <td>...</td>\n",
       "      <td>...</td>\n",
       "      <td>...</td>\n",
       "    </tr>\n",
       "    <tr>\n",
       "      <th>32196</th>\n",
       "      <td>To Make Female Hearts Flutter in Iraq, Throw a...</td>\n",
       "      <td>-1</td>\n",
       "      <td>-1</td>\n",
       "      <td>-1</td>\n",
       "      <td>0</td>\n",
       "    </tr>\n",
       "    <tr>\n",
       "      <th>32197</th>\n",
       "      <td>British Liberal Democrat Patsy Calton, 56, die...</td>\n",
       "      <td>-1</td>\n",
       "      <td>-1</td>\n",
       "      <td>-1</td>\n",
       "      <td>0</td>\n",
       "    </tr>\n",
       "    <tr>\n",
       "      <th>32198</th>\n",
       "      <td>Drone smartphone app to help heart attack vict...</td>\n",
       "      <td>-1</td>\n",
       "      <td>-1</td>\n",
       "      <td>-1</td>\n",
       "      <td>0</td>\n",
       "    </tr>\n",
       "    <tr>\n",
       "      <th>32199</th>\n",
       "      <td>Netanyahu Urges Pope Benedict, in Israel, to D...</td>\n",
       "      <td>-1</td>\n",
       "      <td>-1</td>\n",
       "      <td>-1</td>\n",
       "      <td>0</td>\n",
       "    </tr>\n",
       "    <tr>\n",
       "      <th>32200</th>\n",
       "      <td>Computer Makers Prepare to Stake Bigger Claim ...</td>\n",
       "      <td>-1</td>\n",
       "      <td>-1</td>\n",
       "      <td>-1</td>\n",
       "      <td>0</td>\n",
       "    </tr>\n",
       "  </tbody>\n",
       "</table>\n",
       "<p>32201 rows × 5 columns</p>\n",
       "</div>"
      ],
      "text/plain": [
       "                                             Video Title     Views    Likes  \\\n",
       "0                  10 People You Don't Want To Mess With    484411     3881   \n",
       "1                                I Got Hunted By The FBI  42724724  2005151   \n",
       "2            10 Real Life Giants You Won't Believe Exist   3674544    12116   \n",
       "3            10 Real Life Giants You Won't Believe Exist   6890718    15222   \n",
       "4            10 Mythical CREATURES That Actually Existed   2089601    46750   \n",
       "...                                                  ...       ...      ...   \n",
       "32196  To Make Female Hearts Flutter in Iraq, Throw a...        -1       -1   \n",
       "32197  British Liberal Democrat Patsy Calton, 56, die...        -1       -1   \n",
       "32198  Drone smartphone app to help heart attack vict...        -1       -1   \n",
       "32199  Netanyahu Urges Pope Benedict, in Israel, to D...        -1       -1   \n",
       "32200  Computer Makers Prepare to Stake Bigger Claim ...        -1       -1   \n",
       "\n",
       "       Dislikes  isClickbait  \n",
       "0           191            1  \n",
       "1         24646            1  \n",
       "2          1570            1  \n",
       "3          2858            1  \n",
       "4          1954            1  \n",
       "...         ...          ...  \n",
       "32196        -1            0  \n",
       "32197        -1            0  \n",
       "32198        -1            0  \n",
       "32199        -1            0  \n",
       "32200        -1            0  \n",
       "\n",
       "[32201 rows x 5 columns]"
      ]
     },
     "execution_count": 18,
     "metadata": {},
     "output_type": "execute_result"
    }
   ],
   "source": [
    "data"
   ]
  },
  {
   "cell_type": "code",
   "execution_count": 19,
   "metadata": {
    "id": "PzFimCsRinWy"
   },
   "outputs": [],
   "source": [
    "#for randomizing the dataframe (in case sorting by ID doesn't randomize properly)\n",
    "data=data.sample(frac = 1)"
   ]
  },
  {
   "cell_type": "markdown",
   "metadata": {
    "id": "SIzAIyUZy1O0"
   },
   "source": [
    "# Exploratory Data Analysis"
   ]
  },
  {
   "cell_type": "code",
   "execution_count": 20,
   "metadata": {
    "colab": {
     "base_uri": "https://localhost:8080/",
     "height": 407
    },
    "id": "KqpBePlXy-hC",
    "outputId": "93dadabb-9ae2-4aac-a149-641c51320a3e"
   },
   "outputs": [
    {
     "data": {
      "image/png": "[encoded data removed]",
      "text/plain": [
       "<Figure size 720x360 with 3 Axes>"
      ]
     },
     "metadata": {
      "needs_background": "light"
     },
     "output_type": "display_data"
    }
   ],
   "source": [
    "msno.bar(data,color=\"blue\", sort=\"ascending\", figsize=(10,5), fontsize=12)\n",
    "plt.show()"
   ]
  },
  {
   "cell_type": "code",
   "execution_count": 21,
   "metadata": {
    "colab": {
     "base_uri": "https://localhost:8080/"
    },
    "id": "Qf2vIPx30tjH",
    "outputId": "972320f0-c7eb-4bcb-902e-f1f7873fbc0f"
   },
   "outputs": [
    {
     "data": {
      "text/plain": [
       "Video Title    32196\n",
       "Views            200\n",
       "Likes            200\n",
       "Dislikes         196\n",
       "isClickbait        2\n",
       "dtype: int64"
      ]
     },
     "execution_count": 21,
     "metadata": {},
     "output_type": "execute_result"
    }
   ],
   "source": [
    "data.nunique()"
   ]
  },
  {
   "cell_type": "markdown",
   "metadata": {
    "id": "G8-h8ZF60606"
   },
   "source": [
    "# Lower Case Conversion, Tokenization, StopWord Removal and Lemmatization"
   ]
  },
  {
   "cell_type": "code",
   "execution_count": 22,
   "metadata": {
    "colab": {
     "base_uri": "https://localhost:8080/",
     "height": 206
    },
    "id": "2Y-7fQU509qv",
    "outputId": "9a403499-6884-479f-c691-71df1b0fdb3f"
   },
   "outputs": [
    {
     "data": {
      "text/html": [
       "<div>\n",
       "<style scoped>\n",
       "    .dataframe tbody tr th:only-of-type {\n",
       "        vertical-align: middle;\n",
       "    }\n",
       "\n",
       "    .dataframe tbody tr th {\n",
       "        vertical-align: top;\n",
       "    }\n",
       "\n",
       "    .dataframe thead th {\n",
       "        text-align: right;\n",
       "    }\n",
       "</style>\n",
       "<table border=\"1\" class=\"dataframe\">\n",
       "  <thead>\n",
       "    <tr style=\"text-align: right;\">\n",
       "      <th></th>\n",
       "      <th>Video Title</th>\n",
       "      <th>Views</th>\n",
       "      <th>Likes</th>\n",
       "      <th>Dislikes</th>\n",
       "      <th>isClickbait</th>\n",
       "    </tr>\n",
       "  </thead>\n",
       "  <tbody>\n",
       "    <tr>\n",
       "      <th>2988</th>\n",
       "      <td>14 confessions from people who are afraid to a...</td>\n",
       "      <td>-1</td>\n",
       "      <td>-1</td>\n",
       "      <td>-1</td>\n",
       "      <td>1</td>\n",
       "    </tr>\n",
       "    <tr>\n",
       "      <th>5388</th>\n",
       "      <td>which 2015 slang term are you based on your zo...</td>\n",
       "      <td>-1</td>\n",
       "      <td>-1</td>\n",
       "      <td>-1</td>\n",
       "      <td>1</td>\n",
       "    </tr>\n",
       "    <tr>\n",
       "      <th>31111</th>\n",
       "      <td>north korea claims to conduct 2nd nuclear test</td>\n",
       "      <td>-1</td>\n",
       "      <td>-1</td>\n",
       "      <td>-1</td>\n",
       "      <td>0</td>\n",
       "    </tr>\n",
       "    <tr>\n",
       "      <th>1291</th>\n",
       "      <td>what's in your air</td>\n",
       "      <td>-1</td>\n",
       "      <td>-1</td>\n",
       "      <td>-1</td>\n",
       "      <td>1</td>\n",
       "    </tr>\n",
       "    <tr>\n",
       "      <th>5116</th>\n",
       "      <td>these sounds will confuse your brain</td>\n",
       "      <td>-1</td>\n",
       "      <td>-1</td>\n",
       "      <td>-1</td>\n",
       "      <td>1</td>\n",
       "    </tr>\n",
       "  </tbody>\n",
       "</table>\n",
       "</div>"
      ],
      "text/plain": [
       "                                             Video Title  Views  Likes  \\\n",
       "2988   14 confessions from people who are afraid to a...     -1     -1   \n",
       "5388   which 2015 slang term are you based on your zo...     -1     -1   \n",
       "31111     north korea claims to conduct 2nd nuclear test     -1     -1   \n",
       "1291                                  what's in your air     -1     -1   \n",
       "5116                these sounds will confuse your brain     -1     -1   \n",
       "\n",
       "       Dislikes  isClickbait  \n",
       "2988         -1            1  \n",
       "5388         -1            1  \n",
       "31111        -1            0  \n",
       "1291         -1            1  \n",
       "5116         -1            1  "
      ]
     },
     "execution_count": 22,
     "metadata": {},
     "output_type": "execute_result"
    }
   ],
   "source": [
    "#lower casing\n",
    "data[\"Video Title\"] = data[\"Video Title\"].str.lower()\n",
    "data.head()"
   ]
  },
  {
   "cell_type": "code",
   "execution_count": 23,
   "metadata": {
    "colab": {
     "base_uri": "https://localhost:8080/"
    },
    "id": "8U6kmWWu3d73",
    "outputId": "bfc99acd-4edf-4460-cfa3-337104d37fd4"
   },
   "outputs": [
    {
     "name": "stdout",
     "output_type": "stream",
     "text": [
      "2988     14 confessions from people who are afraid to a...\n",
      "5388     which 2015 slang term are you based on your zo...\n",
      "31111       north korea claims to conduct 2nd nuclear test\n",
      "1291                                    what's in your air\n",
      "5116                  these sounds will confuse your brain\n",
      "                               ...                        \n",
      "17523             7 blasts around baghdad kill at least 24\n",
      "22257    russia stockpiles the gems, awaiting the retur...\n",
      "25357                     lulzsec claims sony network hack\n",
      "31318    46 illegal afghan immigrants suffocate in truc...\n",
      "19123        early puberty for us girls raises health risk\n",
      "Name: Video Title, Length: 32201, dtype: object\n"
     ]
    }
   ],
   "source": [
    "#removing extra spaces\n",
    "data[\"Video Title\"] = data[\"Video Title\"].apply(lambda x: x.strip())\n",
    "print(data[\"Video Title\"])"
   ]
  },
  {
   "cell_type": "code",
   "execution_count": 24,
   "metadata": {
    "id": "9hZxEZaQ4HPM"
   },
   "outputs": [],
   "source": [
    "#removing stopwords\n",
    "stop = stopwords.words('english')\n",
    "data[\"Video Title\"] = data[\"Video Title\"].apply(lambda x: ' '.join([word for word in x.split() if word not in (stop)]))"
   ]
  },
  {
   "cell_type": "code",
   "execution_count": 25,
   "metadata": {
    "colab": {
     "base_uri": "https://localhost:8080/"
    },
    "id": "NJusccz94w9k",
    "outputId": "1ecaf580-c748-4f8f-c300-10832bd1e292"
   },
   "outputs": [
    {
     "data": {
      "text/plain": [
       "2988        14 confessions people afraid admit believe god\n",
       "5388                     2015 slang term based zodiac sign\n",
       "31111          north korea claims conduct 2nd nuclear test\n",
       "1291                                            what's air\n",
       "5116                                  sounds confuse brain\n",
       "                               ...                        \n",
       "17523                7 blasts around baghdad kill least 24\n",
       "22257       russia stockpiles gems, awaiting return demand\n",
       "25357                     lulzsec claims sony network hack\n",
       "31318    46 illegal afghan immigrants suffocate truck p...\n",
       "19123            early puberty us girls raises health risk\n",
       "Name: Video Title, Length: 32201, dtype: object"
      ]
     },
     "execution_count": 25,
     "metadata": {},
     "output_type": "execute_result"
    }
   ],
   "source": [
    "data[\"Video Title\"] #after removing stopwords"
   ]
  },
  {
   "cell_type": "code",
   "execution_count": 26,
   "metadata": {
    "id": "ssjyxCz865ya"
   },
   "outputs": [],
   "source": [
    "#removing punctuations\n",
    "\n",
    "def remove_punctuation(text):\n",
    "    punt = \"\".join([i for i in text if i not in string.punctuation])\n",
    "    return punt\n",
    "data[\"Video Title\"] = data[\"Video Title\"].apply(lambda x: remove_punctuation(x))\n",
    "#test_text = test_text.apply(lambda x: remove_punctuation(x))"
   ]
  },
  {
   "cell_type": "code",
   "execution_count": 27,
   "metadata": {
    "id": "cy5z1aE_7W7z"
   },
   "outputs": [],
   "source": [
    "#removing numbers\n",
    "def remove_digits(text):\n",
    "    digits = \"\".join([i for i in text if not i.isdigit()])\n",
    "    return digits\n",
    "data[\"Video Title\"] = data[\"Video Title\"].apply(lambda x: remove_digits(x))\n",
    "#test_text = test_text.apply(lambda x: remove_digits(x))"
   ]
  },
  {
   "cell_type": "code",
   "execution_count": 33,
   "metadata": {
    "colab": {
     "base_uri": "https://localhost:8080/"
    },
    "id": "EECwzfYH47fs",
    "outputId": "4e40e61d-c50f-4cd5-bd9a-b9d7cad2b83d"
   },
   "outputs": [],
   "source": [
    "#lemmatization\n",
    "\n",
    "#data[\"Video Title\"] =  data[\"Video Title\"].apply(lambda sentence: ' '.join([lemmatizer.lemmatize(w, get_wordnet_pos(w)) for w in nltk.word_tokenize(sentence)]))\n",
    "#data[\"Video Title\"] = data[\"Video Title\"].apply(lambda x: ' '.join([lemmatizer.lemmatize(word) for word in x.split()]))\n",
    "\n",
    "data[\"Video Title\"] = data[\"Video Title\"].apply(lambda x: ' '.join([lemmatizer.lemmatize(word) for word in nltk.word_tokenize(x)]))"
   ]
  },
  {
   "cell_type": "code",
   "execution_count": 35,
   "metadata": {
    "colab": {
     "base_uri": "https://localhost:8080/"
    },
    "id": "dhh_pxeuPG0J",
    "outputId": "11cb70f8-3a49-4404-ae07-591cdd7bc807"
   },
   "outputs": [],
   "source": [
    "#creating seperate dataframes for each class\n",
    "df_cb=data[data['isClickbait']==1]\n",
    "df_noncb=data[data['isClickbait']==0]\n",
    "\n",
    "\n",
    "\n",
    "#creating a list of unique words for each class\n",
    "cb_list=list(df_cb['Video Title'])\n",
    "\n",
    "total_vocab_cb = set()\n",
    "\n",
    "for sent in cb_list:\n",
    "    words=set([w for w in nltk.word_tokenize(sent)])\n",
    "    total_vocab_cb.update(words)\n",
    "len(total_vocab_cb)\n",
    "\n",
    "#print(total_vocab_cb)\n",
    "\n",
    "noncb_list=list(df_noncb['Video Title'])\n",
    "\n",
    "total_vocab_noncb = set()\n",
    "for sent in noncb_list:\n",
    "    words=set([w for w in nltk.word_tokenize(sent)])\n",
    "    total_vocab_noncb.update(words)\n",
    "len(total_vocab_noncb)\n",
    "\n",
    "flat_cb = [item for sublist in cb_list for item in nltk.word_tokenize(sublist)]\n",
    "flat_noncb = [item for sublist in noncb_list for item in nltk.word_tokenize(sublist)]\n",
    "\n",
    "#print(flat_cb[0:100])\n",
    "cb_freq = FreqDist(flat_cb)\n",
    "noncb_freq = FreqDist(flat_noncb)"
   ]
  },
  {
   "cell_type": "code",
   "execution_count": 36,
   "metadata": {
    "colab": {
     "base_uri": "https://localhost:8080/",
     "height": 484
    },
    "id": "in1GYlrvimqx",
    "outputId": "8646282a-0dca-4935-972f-167b80926c2a"
   },
   "outputs": [
    {
     "data": {
      "image/png": "[encoded data removed]",
      "text/plain": [
       "<Figure size 720x432 with 1 Axes>"
      ]
     },
     "metadata": {
      "needs_background": "light"
     },
     "output_type": "display_data"
    }
   ],
   "source": [
    "# create counts of clickbait and non-clickbait words and values\n",
    "cb_bar_counts = [x[1] for x in cb_freq.most_common(20)]\n",
    "cb_bar_words = [x[0] for x in cb_freq.most_common(20)]\n",
    "\n",
    "noncb_bar_counts = [x[1] for x in noncb_freq.most_common(20)]\n",
    "noncb_bar_words = [x[0] for x in noncb_freq.most_common(20)]\n",
    "\n",
    "plt.style.use('seaborn-talk')\n",
    "\n",
    "#bar plot for top 15 most common clickbait words\n",
    "word_freq_figure1 = plt.figure(figsize=(10,6))\n",
    "sns.barplot(x=cb_bar_words, y=cb_bar_counts,palette='Oranges_d')\n",
    "plt.xticks(fontsize=16)\n",
    "plt.xticks(rotation=80)\n",
    "plt.title('Top 20 Clickbait Headline Words')\n",
    "plt.xlabel('Most Common Words')\n",
    "plt.ylabel('Word Count')\n",
    "sns.set_style('white')\n",
    "plt.savefig('clickbait_20_bar')\n",
    "plt.show()"
   ]
  },
  {
   "cell_type": "code",
   "execution_count": 37,
   "metadata": {
    "colab": {
     "base_uri": "https://localhost:8080/",
     "height": 487
    },
    "id": "W3fEkVYvnwLH",
    "outputId": "b5ade362-8c3e-4692-d67c-fbf7e4070718"
   },
   "outputs": [
    {
     "data": {
      "image/png": "[encoded data removed]",
      "text/plain": [
       "<Figure size 720x432 with 1 Axes>"
      ]
     },
     "metadata": {},
     "output_type": "display_data"
    }
   ],
   "source": [
    "#bar plot for top 15 most common non-clickbait words\n",
    "word_freq_figure1 = plt.figure(figsize=(10,6))\n",
    "sns.barplot(x=noncb_bar_words, y=noncb_bar_counts,palette='Purples_d')\n",
    "plt.xticks(fontsize=16)\n",
    "plt.xticks(rotation=80)\n",
    "plt.title('Top 20 Non-Clickbait Headline Words')\n",
    "plt.xlabel('Most Common Words')\n",
    "plt.ylabel('Word Count')\n",
    "sns.set_style()\n",
    "plt.show()"
   ]
  },
  {
   "cell_type": "code",
   "execution_count": 38,
   "metadata": {
    "colab": {
     "base_uri": "https://localhost:8080/",
     "height": 206
    },
    "id": "rjYfTGBU5yNE",
    "outputId": "825d21e0-37fb-42bf-b9bc-60d17f9f5309"
   },
   "outputs": [
    {
     "data": {
      "text/html": [
       "<div>\n",
       "<style scoped>\n",
       "    .dataframe tbody tr th:only-of-type {\n",
       "        vertical-align: middle;\n",
       "    }\n",
       "\n",
       "    .dataframe tbody tr th {\n",
       "        vertical-align: top;\n",
       "    }\n",
       "\n",
       "    .dataframe thead th {\n",
       "        text-align: right;\n",
       "    }\n",
       "</style>\n",
       "<table border=\"1\" class=\"dataframe\">\n",
       "  <thead>\n",
       "    <tr style=\"text-align: right;\">\n",
       "      <th></th>\n",
       "      <th>Video Title</th>\n",
       "      <th>Views</th>\n",
       "      <th>Likes</th>\n",
       "      <th>Dislikes</th>\n",
       "      <th>isClickbait</th>\n",
       "    </tr>\n",
       "  </thead>\n",
       "  <tbody>\n",
       "    <tr>\n",
       "      <th>2988</th>\n",
       "      <td>confession people afraid admit believe god</td>\n",
       "      <td>-1</td>\n",
       "      <td>-1</td>\n",
       "      <td>-1</td>\n",
       "      <td>1</td>\n",
       "    </tr>\n",
       "    <tr>\n",
       "      <th>5388</th>\n",
       "      <td>slang term based zodiac sign</td>\n",
       "      <td>-1</td>\n",
       "      <td>-1</td>\n",
       "      <td>-1</td>\n",
       "      <td>1</td>\n",
       "    </tr>\n",
       "    <tr>\n",
       "      <th>31111</th>\n",
       "      <td>north korea claim conduct nd nuclear test</td>\n",
       "      <td>-1</td>\n",
       "      <td>-1</td>\n",
       "      <td>-1</td>\n",
       "      <td>0</td>\n",
       "    </tr>\n",
       "    <tr>\n",
       "      <th>1291</th>\n",
       "      <td>whats air</td>\n",
       "      <td>-1</td>\n",
       "      <td>-1</td>\n",
       "      <td>-1</td>\n",
       "      <td>1</td>\n",
       "    </tr>\n",
       "    <tr>\n",
       "      <th>5116</th>\n",
       "      <td>sound confuse brain</td>\n",
       "      <td>-1</td>\n",
       "      <td>-1</td>\n",
       "      <td>-1</td>\n",
       "      <td>1</td>\n",
       "    </tr>\n",
       "  </tbody>\n",
       "</table>\n",
       "</div>"
      ],
      "text/plain": [
       "                                      Video Title  Views  Likes  Dislikes  \\\n",
       "2988   confession people afraid admit believe god     -1     -1        -1   \n",
       "5388                 slang term based zodiac sign     -1     -1        -1   \n",
       "31111   north korea claim conduct nd nuclear test     -1     -1        -1   \n",
       "1291                                    whats air     -1     -1        -1   \n",
       "5116                          sound confuse brain     -1     -1        -1   \n",
       "\n",
       "       isClickbait  \n",
       "2988             1  \n",
       "5388             1  \n",
       "31111            0  \n",
       "1291             1  \n",
       "5116             1  "
      ]
     },
     "execution_count": 38,
     "metadata": {},
     "output_type": "execute_result"
    }
   ],
   "source": [
    "data.head()"
   ]
  },
  {
   "cell_type": "markdown",
   "metadata": {
    "id": "do-xF-8X8WGg"
   },
   "source": [
    "# Finding Unigram, Bigram and Trigram\n"
   ]
  },
  {
   "cell_type": "code",
   "execution_count": 39,
   "metadata": {
    "id": "wioGxddL7ypf"
   },
   "outputs": [],
   "source": [
    "def get_top_n_words(corpus, n=None):\n",
    "    vec = CV().fit(corpus)\n",
    "    bag_of_words = vec.transform(corpus)\n",
    "    sum_words = bag_of_words.sum(axis=0) \n",
    "    words_freq = [(word, sum_words[0, idx]) for word, idx in vec.vocabulary_.items()]\n",
    "    words_freq =sorted(words_freq, key = lambda x: x[1], reverse=True)\n",
    "    return words_freq[:n]\n",
    "\n",
    "def get_top_n_bigram(corpus, n=None):\n",
    "    vec = CV(ngram_range=(2, 2)).fit(corpus)\n",
    "    bag_of_words = vec.transform(corpus)\n",
    "    sum_words = bag_of_words.sum(axis=0) \n",
    "    words_freq = [(word, sum_words[0, idx]) for word, idx in vec.vocabulary_.items()]\n",
    "    words_freq =sorted(words_freq, key = lambda x: x[1], reverse=True)\n",
    "    return words_freq[:n]\n",
    "\n",
    "\n",
    "def get_top_n_trigram(corpus, n=None):\n",
    "    vec = CV(ngram_range=(3, 3)).fit(corpus)\n",
    "    bag_of_words = vec.transform(corpus)\n",
    "    sum_words = bag_of_words.sum(axis=0) \n",
    "    words_freq = [(word, sum_words[0, idx]) for word, idx in vec.vocabulary_.items()]\n",
    "    words_freq =sorted(words_freq, key = lambda x: x[1], reverse=True)\n",
    "    return words_freq[:n]"
   ]
  },
  {
   "cell_type": "code",
   "execution_count": 40,
   "metadata": {
    "id": "LwjYWQeh8hhS"
   },
   "outputs": [],
   "source": [
    "def plot_bt(x,w,p):\n",
    "    common_words = x(data[\"Video Title\"], 20)\n",
    "    common_words_df = DataFrame (common_words,columns=['word','freq'])\n",
    "\n",
    "    plt.figure(figsize=(16,8))\n",
    "    sns.barplot(x='freq', y='word', data=common_words_df,facecolor=(0, 0, 0, 0),linewidth=3,edgecolor=sns.color_palette(p,20))\n",
    "    plt.title(\"Top 20 \"+ w,)\n",
    "    plt.xlabel(\"Frequency\", fontsize=14)\n",
    "    plt.yticks(fontsize=13)\n",
    "    plt.xticks(rotation=45, fontsize=13)\n",
    "    plt.ylabel(\"\");\n",
    "    return common_words_df"
   ]
  },
  {
   "cell_type": "code",
   "execution_count": 41,
   "metadata": {
    "colab": {
     "base_uri": "https://localhost:8080/",
     "height": 1000
    },
    "id": "xnHcQ_Z98m3_",
    "outputId": "fc833432-fb87-447a-886c-3d817a80ada6"
   },
   "outputs": [
    {
     "data": {
      "image/png": "[encoded data removed]",
      "text/plain": [
       "<Figure size 1152x576 with 1 Axes>"
      ]
     },
     "metadata": {},
     "output_type": "display_data"
    },
    {
     "data": {
      "image/png": "[encoded data removed]",
      "text/plain": [
       "<Figure size 1152x576 with 1 Axes>"
      ]
     },
     "metadata": {},
     "output_type": "display_data"
    },
    {
     "data": {
      "image/png": "[encoded data removed]",
      "text/plain": [
       "<Figure size 1152x576 with 1 Axes>"
      ]
     },
     "metadata": {},
     "output_type": "display_data"
    }
   ],
   "source": [
    "common_words = get_top_n_words(data[\"Video Title\"], 20)\n",
    "common_words_df1 = DataFrame(common_words,columns=['word','freq'])\n",
    "plt.figure(figsize=(16, 8))\n",
    "ax = sns.barplot(x='freq', y='word', data=common_words_df1,facecolor=(0, 0, 0, 0),linewidth=3,edgecolor=sns.color_palette(\"ch:start=3, rot=.1\",20))\n",
    "\n",
    "plt.title(\"Top 20 unigrams\")\n",
    "plt.xlabel(\"Frequency\", fontsize=14)\n",
    "plt.yticks(fontsize=13)\n",
    "plt.xticks(rotation=45, fontsize=13)\n",
    "plt.ylabel(\"\");\n",
    "\n",
    "common_words_df2 = plot_bt(get_top_n_bigram,\"bigrams\",\"ch:rot=-.5\")\n",
    "common_words_df3 = plot_bt(get_top_n_trigram,\"trigrams\",\"ch:start=-1, rot=-.6\")"
   ]
  },
  {
   "cell_type": "markdown",
   "metadata": {
    "id": "8HoDly5a9xVz"
   },
   "source": [
    "# Word Cloud"
   ]
  },
  {
   "cell_type": "code",
   "execution_count": 42,
   "metadata": {
    "colab": {
     "base_uri": "https://localhost:8080/",
     "height": 477
    },
    "id": "cEUBnqjR90ii",
    "outputId": "8bf2865f-5af9-4778-820c-787829ef1558"
   },
   "outputs": [
    {
     "ename": "ModuleNotFoundError",
     "evalue": "No module named 'wordcloud'",
     "output_type": "error",
     "traceback": [
      "\u001b[0;31m---------------------------------------------------------------------------\u001b[0m",
      "\u001b[0;31mModuleNotFoundError\u001b[0m                       Traceback (most recent call last)",
      "Input \u001b[0;32mIn [42]\u001b[0m, in \u001b[0;36m<module>\u001b[0;34m\u001b[0m\n\u001b[1;32m      1\u001b[0m \u001b[38;5;66;03m# color function for the wordcloud\u001b[39;00m\n\u001b[0;32m----> 2\u001b[0m \u001b[38;5;28;01mfrom\u001b[39;00m \u001b[38;5;21;01mwordcloud\u001b[39;00m \u001b[38;5;28;01mimport\u001b[39;00m WordCloud, STOPWORDS\n\u001b[1;32m      3\u001b[0m plt\u001b[38;5;241m.\u001b[39msubplots(figsize\u001b[38;5;241m=\u001b[39m(\u001b[38;5;241m16\u001b[39m,\u001b[38;5;241m16\u001b[39m))\n\u001b[1;32m      4\u001b[0m wc \u001b[38;5;241m=\u001b[39m WordCloud(stopwords\u001b[38;5;241m=\u001b[39mSTOPWORDS,background_color\u001b[38;5;241m=\u001b[39m\u001b[38;5;124m\"\u001b[39m\u001b[38;5;124mblack\u001b[39m\u001b[38;5;124m\"\u001b[39m,width\u001b[38;5;241m=\u001b[39m\u001b[38;5;241m1500\u001b[39m, height\u001b[38;5;241m=\u001b[39m\u001b[38;5;241m750\u001b[39m,max_words\u001b[38;5;241m=\u001b[39m\u001b[38;5;241m1000\u001b[39m, max_font_size\u001b[38;5;241m=\u001b[39m\u001b[38;5;241m100\u001b[39m)\n",
      "\u001b[0;31mModuleNotFoundError\u001b[0m: No module named 'wordcloud'"
     ]
    }
   ],
   "source": [
    "# color function for the wordcloud\n",
    "\n",
    "plt.subplots(figsize=(16,16))\n",
    "wc = WordCloud(stopwords=STOPWORDS,background_color=\"black\",width=1500, height=750,max_words=1000, max_font_size=100)\n",
    "wc.generate(' '.join(data[\"Video Title\"]))\n",
    "plt.imshow(wc, interpolation=\"bilinear\")\n",
    "plt.axis('off')\n",
    "plt.show()"
   ]
  },
  {
   "cell_type": "code",
   "execution_count": null,
   "metadata": {
    "colab": {
     "base_uri": "https://localhost:8080/",
     "height": 386
    },
    "id": "y3ViUy_CBZnT",
    "outputId": "f1d7ca55-511b-44dc-9360-cfe4444c6c52"
   },
   "outputs": [
    {
     "data": {
      "text/plain": [
       "<seaborn.axisgrid.FacetGrid at 0x7f7d246eb850>"
      ]
     },
     "execution_count": 26,
     "metadata": {},
     "output_type": "execute_result"
    },
    {
     "data": {
      "image/png": "[encoded data removed]",
      "text/plain": [
       "<Figure size 360x360 with 1 Axes>"
      ]
     },
     "metadata": {},
     "output_type": "display_data"
    }
   ],
   "source": [
    "sns.displot(data, x=\"isClickbait\")"
   ]
  },
  {
   "cell_type": "code",
   "execution_count": null,
   "metadata": {
    "id": "ZUPAN33Qsu3i"
   },
   "outputs": [],
   "source": [
    "data=data.drop(['Views', 'Likes', 'Dislikes'], axis=1)"
   ]
  },
  {
   "cell_type": "code",
   "execution_count": null,
   "metadata": {
    "colab": {
     "base_uri": "https://localhost:8080/",
     "height": 424
    },
    "id": "BXOhD9udqqrS",
    "outputId": "6f9c4494-dda7-46b9-ad01-f38861a0112f"
   },
   "outputs": [
    {
     "data": {
      "text/html": [
       "\n",
       "  <div id=\"df-ac75b7d4-06aa-45e7-ba5c-00cf6d59cde5\">\n",
       "    <div class=\"colab-df-container\">\n",
       "      <div>\n",
       "<style scoped>\n",
       "    .dataframe tbody tr th:only-of-type {\n",
       "        vertical-align: middle;\n",
       "    }\n",
       "\n",
       "    .dataframe tbody tr th {\n",
       "        vertical-align: top;\n",
       "    }\n",
       "\n",
       "    .dataframe thead th {\n",
       "        text-align: right;\n",
       "    }\n",
       "</style>\n",
       "<table border=\"1\" class=\"dataframe\">\n",
       "  <thead>\n",
       "    <tr style=\"text-align: right;\">\n",
       "      <th></th>\n",
       "      <th>Video Title</th>\n",
       "      <th>isClickbait</th>\n",
       "    </tr>\n",
       "  </thead>\n",
       "  <tbody>\n",
       "    <tr>\n",
       "      <th>23195</th>\n",
       "      <td>french tourist killed california bus rollover ...</td>\n",
       "      <td>0</td>\n",
       "    </tr>\n",
       "    <tr>\n",
       "      <th>20320</th>\n",
       "      <td>illinois governor blagojevich appoints roland ...</td>\n",
       "      <td>0</td>\n",
       "    </tr>\n",
       "    <tr>\n",
       "      <th>2213</th>\n",
       "      <td>recognize famous lip</td>\n",
       "      <td>1</td>\n",
       "    </tr>\n",
       "    <tr>\n",
       "      <th>29792</th>\n",
       "      <td>oklahoma couple find answer book</td>\n",
       "      <td>0</td>\n",
       "    </tr>\n",
       "    <tr>\n",
       "      <th>19013</th>\n",
       "      <td>somali minister killed bombing</td>\n",
       "      <td>0</td>\n",
       "    </tr>\n",
       "    <tr>\n",
       "      <th>...</th>\n",
       "      <td>...</td>\n",
       "      <td>...</td>\n",
       "    </tr>\n",
       "    <tr>\n",
       "      <th>8829</th>\n",
       "      <td>real housewife based birth month</td>\n",
       "      <td>1</td>\n",
       "    </tr>\n",
       "    <tr>\n",
       "      <th>4396</th>\n",
       "      <td>new wonder woman movie officially look amazing</td>\n",
       "      <td>1</td>\n",
       "    </tr>\n",
       "    <tr>\n",
       "      <th>13008</th>\n",
       "      <td>look like skateboard road mph</td>\n",
       "      <td>1</td>\n",
       "    </tr>\n",
       "    <tr>\n",
       "      <th>13535</th>\n",
       "      <td>time pam beesly proved best character the office</td>\n",
       "      <td>1</td>\n",
       "    </tr>\n",
       "    <tr>\n",
       "      <th>16041</th>\n",
       "      <td>alan rickman narrates new alice looking glass ...</td>\n",
       "      <td>1</td>\n",
       "    </tr>\n",
       "  </tbody>\n",
       "</table>\n",
       "<p>32201 rows × 2 columns</p>\n",
       "</div>\n",
       "      <button class=\"colab-df-convert\" onclick=\"convertToInteractive('df-ac75b7d4-06aa-45e7-ba5c-00cf6d59cde5')\"\n",
       "              title=\"Convert this dataframe to an interactive table.\"\n",
       "              style=\"display:none;\">\n",
       "        \n",
       "  <svg xmlns=\"http://www.w3.org/2000/svg\" height=\"24px\"viewBox=\"0 0 24 24\"\n",
       "       width=\"24px\">\n",
       "    <path d=\"M0 0h24v24H0V0z\" fill=\"none\"/>\n",
       "    <path d=\"M18.56 5.44l.94 2.06.94-2.06 2.06-.94-2.06-.94-.94-2.06-.94 2.06-2.06.94zm-11 1L8.5 8.5l.94-2.06 2.06-.94-2.06-.94L8.5 2.5l-.94 2.06-2.06.94zm10 10l.94 2.06.94-2.06 2.06-.94-2.06-.94-.94-2.06-.94 2.06-2.06.94z\"/><path d=\"M17.41 7.96l-1.37-1.37c-.4-.4-.92-.59-1.43-.59-.52 0-1.04.2-1.43.59L10.3 9.45l-7.72 7.72c-.78.78-.78 2.05 0 2.83L4 21.41c.39.39.9.59 1.41.59.51 0 1.02-.2 1.41-.59l7.78-7.78 2.81-2.81c.8-.78.8-2.07 0-2.86zM5.41 20L4 18.59l7.72-7.72 1.47 1.35L5.41 20z\"/>\n",
       "  </svg>\n",
       "      </button>\n",
       "      \n",
       "  <style>\n",
       "    .colab-df-container {\n",
       "      display:flex;\n",
       "      flex-wrap:wrap;\n",
       "      gap: 12px;\n",
       "    }\n",
       "\n",
       "    .colab-df-convert {\n",
       "      background-color: #E8F0FE;\n",
       "      border: none;\n",
       "      border-radius: 50%;\n",
       "      cursor: pointer;\n",
       "      display: none;\n",
       "      fill: #1967D2;\n",
       "      height: 32px;\n",
       "      padding: 0 0 0 0;\n",
       "      width: 32px;\n",
       "    }\n",
       "\n",
       "    .colab-df-convert:hover {\n",
       "      background-color: #E2EBFA;\n",
       "      box-shadow: 0px 1px 2px rgba(60, 64, 67, 0.3), 0px 1px 3px 1px rgba(60, 64, 67, 0.15);\n",
       "      fill: #174EA6;\n",
       "    }\n",
       "\n",
       "    [theme=dark] .colab-df-convert {\n",
       "      background-color: #3B4455;\n",
       "      fill: #D2E3FC;\n",
       "    }\n",
       "\n",
       "    [theme=dark] .colab-df-convert:hover {\n",
       "      background-color: #434B5C;\n",
       "      box-shadow: 0px 1px 3px 1px rgba(0, 0, 0, 0.15);\n",
       "      filter: drop-shadow(0px 1px 2px rgba(0, 0, 0, 0.3));\n",
       "      fill: #FFFFFF;\n",
       "    }\n",
       "  </style>\n",
       "\n",
       "      <script>\n",
       "        const buttonEl =\n",
       "          document.querySelector('#df-ac75b7d4-06aa-45e7-ba5c-00cf6d59cde5 button.colab-df-convert');\n",
       "        buttonEl.style.display =\n",
       "          google.colab.kernel.accessAllowed ? 'block' : 'none';\n",
       "\n",
       "        async function convertToInteractive(key) {\n",
       "          const element = document.querySelector('#df-ac75b7d4-06aa-45e7-ba5c-00cf6d59cde5');\n",
       "          const dataTable =\n",
       "            await google.colab.kernel.invokeFunction('convertToInteractive',\n",
       "                                                     [key], {});\n",
       "          if (!dataTable) return;\n",
       "\n",
       "          const docLinkHtml = 'Like what you see? Visit the ' +\n",
       "            '<a target=\"_blank\" href=https://colab.research.google.com/notebooks/data_table.ipynb>data table notebook</a>'\n",
       "            + ' to learn more about interactive tables.';\n",
       "          element.innerHTML = '';\n",
       "          dataTable['output_type'] = 'display_data';\n",
       "          await google.colab.output.renderOutput(dataTable, element);\n",
       "          const docLink = document.createElement('div');\n",
       "          docLink.innerHTML = docLinkHtml;\n",
       "          element.appendChild(docLink);\n",
       "        }\n",
       "      </script>\n",
       "    </div>\n",
       "  </div>\n",
       "  "
      ],
      "text/plain": [
       "                                             Video Title  isClickbait\n",
       "23195  french tourist killed california bus rollover ...            0\n",
       "20320  illinois governor blagojevich appoints roland ...            0\n",
       "2213                                recognize famous lip            1\n",
       "29792                   oklahoma couple find answer book            0\n",
       "19013                     somali minister killed bombing            0\n",
       "...                                                  ...          ...\n",
       "8829                    real housewife based birth month            1\n",
       "4396      new wonder woman movie officially look amazing            1\n",
       "13008                      look like skateboard road mph            1\n",
       "13535   time pam beesly proved best character the office            1\n",
       "16041  alan rickman narrates new alice looking glass ...            1\n",
       "\n",
       "[32201 rows x 2 columns]"
      ]
     },
     "execution_count": 28,
     "metadata": {},
     "output_type": "execute_result"
    }
   ],
   "source": [
    "data"
   ]
  },
  {
   "cell_type": "code",
   "execution_count": null,
   "metadata": {
    "id": "LMwBLikoBeVc"
   },
   "outputs": [],
   "source": [
    "#Create stopwords list\n",
    "stopwords_list = stopwords.words('english')\n",
    "\n",
    "#definining y and features\n",
    "features = data.drop(columns='isClickbait')\n",
    "y = data['isClickbait']\n",
    "\n",
    "X_train, X_test, y_train, y_test = train_test_split(data, y, random_state=20)\n",
    "\n",
    "tfidf = TfidfVectorizer(stop_words = stopwords_list,ngram_range = (1,2))\n",
    "tfidf_text_train = tfidf.fit_transform(X_train['Video Title'])\n",
    "tfidf_text_test = tfidf.transform(X_test['Video Title'])\n",
    "\n",
    "X_train_ef = X_train.drop(columns='Video Title')\n",
    "X_test_ef = X_test.drop(columns='Video Title')"
   ]
  },
  {
   "cell_type": "code",
   "execution_count": null,
   "metadata": {
    "id": "0CZQ1Em2i92S"
   },
   "outputs": [],
   "source": [
    "from sklearn.feature_extraction.text import TfidfVectorizer, CountVectorizer\n",
    "from sklearn.naive_bayes import MultinomialNB, GaussianNB\n",
    "from sklearn import metrics"
   ]
  },
  {
   "cell_type": "code",
   "execution_count": null,
   "metadata": {
    "id": "qzxetJPLpxva"
   },
   "outputs": [],
   "source": [
    "train, test = train_test_split(data, test_size=0.2)\n",
    "\n",
    "X_train = train[\"Video Title\"]\n",
    "y_train = train[\"isClickbait\"]\n",
    "\n",
    "X_test = test[\"Video Title\"]\n",
    "y_test = test[\"isClickbait\"]\n"
   ]
  },
  {
   "cell_type": "code",
   "execution_count": null,
   "metadata": {
    "id": "k4gF2Mgfp5hI"
   },
   "outputs": [],
   "source": [
    "tf_vectorizer = CountVectorizer()\n",
    "\n",
    "X_train_tf = tf_vectorizer.fit_transform(X_train)"
   ]
  },
  {
   "cell_type": "code",
   "execution_count": null,
   "metadata": {
    "id": "znu9SGWaqID_"
   },
   "outputs": [],
   "source": [
    "X_test_tf = tf_vectorizer.transform(X_test)"
   ]
  },
  {
   "cell_type": "code",
   "execution_count": null,
   "metadata": {
    "colab": {
     "base_uri": "https://localhost:8080/"
    },
    "id": "2hzYd8EMqRiC",
    "outputId": "8bf8c4be-acd8-493e-e502-428d97db90f6"
   },
   "outputs": [
    {
     "data": {
      "text/plain": [
       "MultinomialNB()"
      ]
     },
     "execution_count": 34,
     "metadata": {},
     "output_type": "execute_result"
    }
   ],
   "source": [
    "naive_classifier = MultinomialNB()\n",
    "naive_classifier.fit(X_train_tf, y_train)\n",
    "# naive bayes\n",
    "# random forest\n",
    "# svm\n",
    "# bert"
   ]
  },
  {
   "cell_type": "code",
   "execution_count": null,
   "metadata": {
    "colab": {
     "base_uri": "https://localhost:8080/"
    },
    "id": "GS1i8yustUTo",
    "outputId": "cdfc5a17-2b94-49dd-a583-86a65708df03"
   },
   "outputs": [
    {
     "name": "stdout",
     "output_type": "stream",
     "text": [
      "0.9573047663406303\n",
      "              precision    recall  f1-score   support\n",
      "\n",
      "           0       0.97      0.94      0.96      3238\n",
      "           1       0.94      0.97      0.96      3203\n",
      "\n",
      "    accuracy                           0.96      6441\n",
      "   macro avg       0.96      0.96      0.96      6441\n",
      "weighted avg       0.96      0.96      0.96      6441\n",
      "\n",
      "[[3057  181]\n",
      " [  94 3109]]\n"
     ]
    }
   ],
   "source": [
    "y_pred = naive_classifier.predict(X_test_tf)\n",
    "\n",
    "score1 = metrics.accuracy_score(y_test, y_pred)\n",
    "print(score1)\n",
    "\n",
    "print(metrics.classification_report(y_test, y_pred))\n",
    "\n",
    "print(metrics.confusion_matrix(y_test, y_pred))"
   ]
  },
  {
   "cell_type": "code",
   "execution_count": null,
   "metadata": {
    "id": "QrD6LMmvv3qV"
   },
   "outputs": [],
   "source": [
    "from sklearn.ensemble import RandomForestClassifier"
   ]
  },
  {
   "cell_type": "code",
   "execution_count": null,
   "metadata": {
    "colab": {
     "base_uri": "https://localhost:8080/"
    },
    "id": "BWl7g8HKvmw5",
    "outputId": "38613a51-d245-463a-dfa5-d8c2bf335d18"
   },
   "outputs": [
    {
     "data": {
      "text/plain": [
       "RandomForestClassifier(max_depth=5, random_state=0)"
      ]
     },
     "execution_count": 37,
     "metadata": {},
     "output_type": "execute_result"
    }
   ],
   "source": [
    "clf = RandomForestClassifier(max_depth=5, random_state=0)\n",
    "clf.fit(X_train_tf, y_train)"
   ]
  },
  {
   "cell_type": "code",
   "execution_count": null,
   "metadata": {
    "colab": {
     "base_uri": "https://localhost:8080/"
    },
    "id": "YGJUd29Vv8o1",
    "outputId": "6d5df3a5-6cac-43d7-98dd-080787b1c6e5"
   },
   "outputs": [
    {
     "name": "stdout",
     "output_type": "stream",
     "text": [
      "0.8427262847383946\n",
      "              precision    recall  f1-score   support\n",
      "\n",
      "           0       0.79      0.94      0.86      3238\n",
      "           1       0.92      0.75      0.83      3203\n",
      "\n",
      "    accuracy                           0.84      6441\n",
      "   macro avg       0.86      0.84      0.84      6441\n",
      "weighted avg       0.86      0.84      0.84      6441\n",
      "\n",
      "[[3039  199]\n",
      " [ 814 2389]]\n"
     ]
    }
   ],
   "source": [
    "y_pred = clf.predict(X_test_tf)\n",
    "\n",
    "score1 = metrics.accuracy_score(y_test, y_pred)\n",
    "print(score1)\n",
    "\n",
    "print(metrics.classification_report(y_test, y_pred))\n",
    "\n",
    "print(metrics.confusion_matrix(y_test, y_pred))"
   ]
  },
  {
   "cell_type": "code",
   "execution_count": null,
   "metadata": {
    "id": "4xgRo14iwXgy"
   },
   "outputs": [],
   "source": [
    "from sklearn.pipeline import make_pipeline\n",
    "from sklearn.preprocessing import StandardScaler\n",
    "from sklearn.svm import SVC\n",
    "from sklearn.linear_model import LogisticRegression"
   ]
  },
  {
   "cell_type": "code",
   "execution_count": null,
   "metadata": {
    "id": "VKjxl0Cjwv5o"
   },
   "outputs": [],
   "source": [
    "clf = LogisticRegression(random_state=0).fit(X_train_tf, y_train)"
   ]
  },
  {
   "cell_type": "code",
   "execution_count": null,
   "metadata": {
    "colab": {
     "base_uri": "https://localhost:8080/"
    },
    "id": "AQjvOtTuzhmf",
    "outputId": "1795de76-cb11-4dd2-a3a9-2a77e5850920"
   },
   "outputs": [
    {
     "name": "stdout",
     "output_type": "stream",
     "text": [
      "0.9510945505356311\n",
      "              precision    recall  f1-score   support\n",
      "\n",
      "           0       0.95      0.95      0.95      3238\n",
      "           1       0.95      0.95      0.95      3203\n",
      "\n",
      "    accuracy                           0.95      6441\n",
      "   macro avg       0.95      0.95      0.95      6441\n",
      "weighted avg       0.95      0.95      0.95      6441\n",
      "\n",
      "[[3081  157]\n",
      " [ 158 3045]]\n"
     ]
    }
   ],
   "source": [
    "y_pred = clf.predict(X_test_tf)\n",
    "\n",
    "score1 = metrics.accuracy_score(y_test, y_pred)\n",
    "print(score1)\n",
    "\n",
    "print(metrics.classification_report(y_test, y_pred))\n",
    "\n",
    "print(metrics.confusion_matrix(y_test, y_pred))"
   ]
  },
  {
   "cell_type": "code",
   "execution_count": null,
   "metadata": {
    "id": "qpTPEgdd0LPT"
   },
   "outputs": [],
   "source": [
    "# convert to feature vector\n",
    "feature_extraction = TfidfVectorizer()\n",
    "X = feature_extraction.fit_transform(data[\"Video Title\"].values)\n",
    "\n",
    "# split into training- and test set\n",
    "TRAINING_END = date(2014,12,31)\n",
    "num_training = len(data[pandas.to_datetime(data[\"Date\"]) <= TRAINING_END])\n",
    "X_train = X[:num_training]\n",
    "X_test = X[num_training:]\n",
    "y_train = data[\"Label\"].values[:num_training]\n",
    "y_test = data[\"Label\"].values[num_training:]\n",
    "\n",
    "# train classifier\n",
    "clf = SVC(probability=True, kernel='rbf')\n",
    "clf.fit(X_train, y_train)\n",
    "\n",
    "# predict and evaluate predictions\n",
    "predictions = clf.predict_proba(X_test)\n",
    "print('ROC-AUC yields ' + str(roc_auc_score(y_test, predictions[:,1])))"
   ]
  },
  {
   "cell_type": "code",
   "execution_count": null,
   "metadata": {
    "id": "q8rQcN8J0Qcc"
   },
   "outputs": [],
   "source": [
    "feature_extraction = TfidfVectorizer()\n",
    "X = feature_extraction.fit_transform(data[\"Video Title\"].values)"
   ]
  },
  {
   "cell_type": "code",
   "execution_count": null,
   "metadata": {
    "id": "1S_iOQbH0YHK"
   },
   "outputs": [],
   "source": [
    "num_training = 21000"
   ]
  },
  {
   "cell_type": "code",
   "execution_count": null,
   "metadata": {
    "id": "GzvTd0541f3g"
   },
   "outputs": [],
   "source": [
    "X_train = X[:num_training]\n",
    "X_test = X[num_training:]\n",
    "y_train = data[\"isClickbait\"].values[:num_training]\n",
    "y_test = data[\"isClickbait\"].values[num_training:]"
   ]
  },
  {
   "cell_type": "code",
   "execution_count": 49,
   "metadata": {
    "colab": {
     "base_uri": "https://localhost:8080/"
    },
    "id": "1sw7bPGq8kyj",
    "outputId": "f612c14d-c622-4581-abb7-f130517f5e22"
   },
   "outputs": [
    {
     "data": {
      "text/plain": [
       "SVC(probability=True)"
      ]
     },
     "execution_count": 49,
     "metadata": {},
     "output_type": "execute_result"
    }
   ],
   "source": [
    "clf = SVC(probability=True, kernel='rbf')\n",
    "clf.fit(X_train, y_train)"
   ]
  },
  {
   "cell_type": "code",
   "execution_count": null,
   "metadata": {
    "id": "LF5YRGenuuQA"
   },
   "outputs": [],
   "source": [
    "#combine tf-idf vectors with the engineered features and store as sparse arrays\n",
    "from scipy import sparse\n",
    "\n",
    "X_train = sparse.hstack([X_train_ef, tfidf_text_train]).tocsr()\n",
    "X_test = sparse.hstack([X_test_ef, tfidf_text_test]).tocsr()"
   ]
  },
  {
   "cell_type": "code",
   "execution_count": null,
   "metadata": {
    "colab": {
     "base_uri": "https://localhost:8080/"
    },
    "id": "6lZsgJVj4E5L",
    "outputId": "39eca6f8-b49a-4d1a-cdff-544e43c71590"
   },
   "outputs": [
    {
     "data": {
      "text/plain": [
       "<24150x110647 sparse matrix of type '<class 'numpy.float64'>'\n",
       "\twith 270233 stored elements in Compressed Sparse Row format>"
      ]
     },
     "execution_count": 18,
     "metadata": {},
     "output_type": "execute_result"
    }
   ],
   "source": [
    "X_train"
   ]
  },
  {
   "cell_type": "code",
   "execution_count": null,
   "metadata": {
    "id": "CjoljbqJyve1"
   },
   "outputs": [],
   "source": [
    "#creating a function to call after each model iteration to print accuracy and recall scores for test and train\n",
    "def train_results(preds):\n",
    "    return \"Training Accuracy:\", accuracy_score(y_train,preds),\" Training Recall:\", recall_score(y_train,preds)\n",
    "\n",
    "def test_results(preds):\n",
    "    return \"Testing Accuracy:\", accuracy_score(y_test,preds),\" Testing Recall:\", recall_score(y_test,preds)"
   ]
  },
  {
   "cell_type": "code",
   "execution_count": null,
   "metadata": {
    "id": "Jf6RSwIVFqtO"
   },
   "outputs": [],
   "source": [
    "#Import Gaussian Naive Bayes model\n",
    "from sklearn.naive_bayes import GaussianNB\n",
    "\n",
    "#Create a Gaussian Classifier\n",
    "gnb = GaussianNB()\n",
    "\n",
    "#Train the model using the training sets\n",
    "gnb.fit(X_train, y_train)\n",
    "\n",
    "#Predict the response for test dataset\n",
    "y_pred = gnb.predict(X_test)\n",
    "print(y_pred)\n",
    "print(test_results(y_test))"
   ]
  },
  {
   "cell_type": "code",
   "execution_count": null,
   "metadata": {
    "colab": {
     "base_uri": "https://localhost:8080/"
    },
    "id": "8P9_Bm0QykUc",
    "outputId": "b51f8d76-6434-4fe5-df53-91787162c6cf"
   },
   "outputs": [
    {
     "name": "stdout",
     "output_type": "stream",
     "text": [
      "('Training Accuracy:', 0.9999171842650103, ' Training Recall:', 1.0)\n",
      "('Testing Accuracy:', 0.9843497702148801, ' Testing Recall:', 1.0)\n"
     ]
    }
   ],
   "source": [
    "from sklearn.naive_bayes import MultinomialNB\n",
    "nb_classifier = MultinomialNB(alpha = .05)\n",
    "\n",
    "nb_classifier.fit(X_train, y_train)\n",
    "\n",
    "nb_train_preds = nb_classifier.predict(X_train)\n",
    "nb_test_preds = nb_classifier.predict(X_test)\n",
    "\n",
    "print(train_results(nb_train_preds))\n",
    "print(test_results(nb_test_preds))"
   ]
  },
  {
   "cell_type": "code",
   "execution_count": null,
   "metadata": {
    "colab": {
     "base_uri": "https://localhost:8080/",
     "height": 518
    },
    "id": "iXQ-K3Sq4uGK",
    "outputId": "eb151a40-7a70-42d8-eb07-de90e6b74606"
   },
   "outputs": [
    {
     "name": "stdout",
     "output_type": "stream",
     "text": [
      "Accuracy: 0.5175496377152536\n"
     ]
    },
    {
     "data": {
      "image/png": "[encoded data removed]",
      "text/plain": [
       "<Figure size 540x540 with 1 Axes>"
      ]
     },
     "metadata": {},
     "output_type": "display_data"
    }
   ],
   "source": [
    "#Import scikit-learn metrics module for accuracy calculation\n",
    "from sklearn import metrics\n",
    "\n",
    "# Model Accuracy, how often is the classifier correct?\n",
    "print(\"Accuracy:\",metrics.accuracy_score(y_test, y_pred))\n",
    "\n",
    "from sklearn.metrics import confusion_matrix\n",
    "conf_matrix = confusion_matrix(y_true=y_test, y_pred=y_pred)\n",
    "fig, ax = plt.subplots(figsize=(7.5, 7.5))\n",
    "ax.matshow(conf_matrix, cmap=plt.cm.Blues, alpha=0.3)\n",
    "for i in range(conf_matrix.shape[0]):\n",
    "    for j in range(conf_matrix.shape[1]):\n",
    "        ax.text(x=j, y=i,s=conf_matrix[i, j], va='center', ha='center', size='xx-large')\n",
    " \n",
    "plt.xlabel('Predictions', fontsize=18)\n",
    "plt.ylabel('Actuals', fontsize=18)\n",
    "plt.title('Confusion Matrix', fontsize=18)\n",
    "plt.show()"
   ]
  },
  {
   "cell_type": "code",
   "execution_count": null,
   "metadata": {
    "colab": {
     "base_uri": "https://localhost:8080/",
     "height": 234
    },
    "id": "ctcoK-m_2Ssb",
    "outputId": "34797600-4e7f-4104-c45a-dc7b59d139b9"
   },
   "outputs": [
    {
     "ename": "NameError",
     "evalue": "ignored",
     "output_type": "error",
     "traceback": [
      "\u001b[0;31m---------------------------------------------------------------------------\u001b[0m",
      "\u001b[0;31mNameError\u001b[0m                                 Traceback (most recent call last)",
      "\u001b[0;32m<ipython-input-1-061a74be3890>\u001b[0m in \u001b[0;36m<module>\u001b[0;34m()\u001b[0m\n\u001b[1;32m      3\u001b[0m \u001b[0;34m\u001b[0m\u001b[0m\n\u001b[1;32m      4\u001b[0m \u001b[0mrf_classifier\u001b[0m \u001b[0;34m=\u001b[0m \u001b[0mRandomForestClassifier\u001b[0m\u001b[0;34m(\u001b[0m\u001b[0mclass_weight\u001b[0m \u001b[0;34m=\u001b[0m \u001b[0;34m'balanced'\u001b[0m\u001b[0;34m,\u001b[0m \u001b[0mn_estimators\u001b[0m\u001b[0;34m=\u001b[0m\u001b[0;36m900\u001b[0m\u001b[0;34m,\u001b[0m \u001b[0;34m)\u001b[0m\u001b[0;34m\u001b[0m\u001b[0;34m\u001b[0m\u001b[0m\n\u001b[0;32m----> 5\u001b[0;31m \u001b[0mrf_classifier\u001b[0m\u001b[0;34m.\u001b[0m\u001b[0mfit\u001b[0m\u001b[0;34m(\u001b[0m\u001b[0mX_train\u001b[0m\u001b[0;34m,\u001b[0m \u001b[0my_train\u001b[0m\u001b[0;34m)\u001b[0m\u001b[0;34m\u001b[0m\u001b[0;34m\u001b[0m\u001b[0m\n\u001b[0m\u001b[1;32m      6\u001b[0m \u001b[0;34m\u001b[0m\u001b[0m\n\u001b[1;32m      7\u001b[0m \u001b[0mrf_test_preds\u001b[0m \u001b[0;34m=\u001b[0m \u001b[0mrf_classifier\u001b[0m\u001b[0;34m.\u001b[0m\u001b[0mpredict\u001b[0m\u001b[0;34m(\u001b[0m\u001b[0mX_test\u001b[0m\u001b[0;34m)\u001b[0m\u001b[0;34m\u001b[0m\u001b[0;34m\u001b[0m\u001b[0m\n",
      "\u001b[0;31mNameError\u001b[0m: name 'X_train' is not defined"
     ]
    }
   ],
   "source": [
    "#rf_classifier = RandomForestClassifier(class_weight = 'balanced', n_estimators = 900 )\n",
    "from sklearn.ensemble import RandomForestClassifier\n",
    "\n",
    "rf_classifier = RandomForestClassifier(class_weight = 'balanced', n_estimators=900, )\n",
    "rf_classifier.fit(X_train, y_train)\n",
    "\n",
    "rf_test_preds = rf_classifier.predict(X_test)\n",
    "rf_train_preds = rf_classifier.predict(X_train)\n",
    "\n",
    "print(train_results(rf_train_preds))\n",
    "print(test_results(rf_test_preds))"
   ]
  }
 ],
 "metadata": {
  "colab": {
   "collapsed_sections": [],
   "name": "AI_Clickbait_Classification.ipynb",
   "provenance": []
  },
  "kernelspec": {
   "display_name": "Python 3 (ipykernel)",
   "language": "python",
   "name": "python3"
  },
  "language_info": {
   "codemirror_mode": {
    "name": "ipython",
    "version": 3
   },
   "file_extension": ".py",
   "mimetype": "text/x-python",
   "name": "python",
   "nbconvert_exporter": "python",
   "pygments_lexer": "ipython3",
   "version": "3.8.10"
  }
 },
 "nbformat": 4,
 "nbformat_minor": 1
}
